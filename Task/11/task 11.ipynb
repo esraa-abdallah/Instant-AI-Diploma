{
 "cells": [
  {
   "cell_type": "markdown",
   "id": "9b249546",
   "metadata": {},
   "source": [
    "# Task1: How to sort dataframe by index and how to sort dataframe by specific column?"
   ]
  },
  {
   "cell_type": "code",
   "execution_count": 21,
   "id": "291c5a41",
   "metadata": {},
   "outputs": [],
   "source": [
    "import pandas as pd\n",
    "\n",
    "df1 = pd.DataFrame({\n",
    "    \"city\": [\"new york\", \"chicago\", \"orlando\"],\n",
    "    \"temperature\": [21, 14, 35],\n",
    "}, index=[2, 0, 1])\n",
    "\n",
    "df2 = pd.DataFrame({\n",
    "    \"city\": [\"chicago\", \"new york\", \"orlando\", \"California\"],\n",
    "    \"humidity\": [65, 68, 75, 56],\n",
    "}, index=[2, 1, 3, 0])\n",
    "\n",
    "df1_sorted_by_index = df1.sort_index()\n",
    "\n",
    "df2_sorted_by_index = df2.sort_index()\n"
   ]
  },
  {
   "cell_type": "code",
   "execution_count": 22,
   "id": "47b32c78",
   "metadata": {},
   "outputs": [],
   "source": [
    "df3 = pd.merge(df1_sorted_by_index, df2_sorted_by_index, on=\"city\", how=\"outer\")\n",
    "\n",
    "df3_sorted_by_index = df3.sort_index()\n",
    "\n",
    "df3_sorted_by_temperature = df3.sort_values(by=\"temperature\", ascending=True)"
   ]
  },
  {
   "cell_type": "code",
   "execution_count": 23,
   "id": "00573235",
   "metadata": {},
   "outputs": [
    {
     "name": "stdout",
     "output_type": "stream",
     "text": [
      "df1\n",
      "        city  temperature\n",
      "2  new york           21\n",
      "0   chicago           14\n",
      "1   orlando           35\n",
      "\n",
      "df1_sorted_by_index\n",
      "        city  temperature\n",
      "0   chicago           14\n",
      "1   orlando           35\n",
      "2  new york           21\n",
      "\n",
      "df2\n",
      "          city  humidity\n",
      "2     chicago        65\n",
      "1    new york        68\n",
      "3     orlando        75\n",
      "0  California        56\n",
      "\n",
      "df2_sorted_by_index\n",
      "          city  humidity\n",
      "0  California        56\n",
      "1    new york        68\n",
      "2     chicago        65\n",
      "3     orlando        75\n",
      "\n",
      "df3\n",
      "          city  temperature  humidity\n",
      "0     chicago         14.0        65\n",
      "1     orlando         35.0        75\n",
      "2    new york         21.0        68\n",
      "3  California          NaN        56\n",
      "\n",
      "df3_sorted_by_index\n",
      "          city  temperature  humidity\n",
      "0     chicago         14.0        65\n",
      "1     orlando         35.0        75\n",
      "2    new york         21.0        68\n",
      "3  California          NaN        56\n",
      "\n",
      "df3_sorted_by_temperature\n",
      "          city  temperature  humidity\n",
      "0     chicago         14.0        65\n",
      "2    new york         21.0        68\n",
      "1     orlando         35.0        75\n",
      "3  California          NaN        56\n"
     ]
    }
   ],
   "source": [
    "print(\"df1\\n\",df1)\n",
    "print()\n",
    "print(\"df1_sorted_by_index\\n\",df1_sorted_by_index)\n",
    "print()\n",
    "print(\"df2\\n\",df2)\n",
    "print()\n",
    "print(\"df2_sorted_by_index\\n\",df2_sorted_by_index)\n",
    "print()\n",
    "print(\"df3\\n\",df3)\n",
    "print()\n",
    "print(\"df3_sorted_by_index\\n\",df3_sorted_by_index)\n",
    "print()\n",
    "print(\"df3_sorted_by_temperature\\n\",df3_sorted_by_temperature)"
   ]
  },
  {
   "cell_type": "code",
   "execution_count": null,
   "id": "045e0e23",
   "metadata": {},
   "outputs": [],
   "source": []
  },
  {
   "cell_type": "markdown",
   "id": "5feb95da",
   "metadata": {},
   "source": [
    "# Task2: What is lambda expression?"
   ]
  },
  {
   "cell_type": "markdown",
   "id": "4af1083e",
   "metadata": {},
   "source": [
    "***Unnamed function ,you can call it inline without defining it becouse its one single expression not block of code ,and ues it for simple function.***"
   ]
  },
  {
   "cell_type": "code",
   "execution_count": 24,
   "id": "f6fbf7cb",
   "metadata": {},
   "outputs": [
    {
     "name": "stdout",
     "output_type": "stream",
     "text": [
      "Hello esraa in jordan\n",
      "Hello noor in jordan\n"
     ]
    }
   ],
   "source": [
    "#def function\n",
    "def hello_1(name):\n",
    "    return f\"Hello {name} in jordan\"\n",
    "\n",
    "print(hello_1(\"esraa\"))\n",
    "\n",
    "#lambda expression\n",
    "hello_2 = lambda name : f\"Hello {name} in jordan\"\n",
    "\n",
    "print(hello_2(\"noor\"))"
   ]
  },
  {
   "cell_type": "code",
   "execution_count": null,
   "id": "51ebc39d",
   "metadata": {},
   "outputs": [],
   "source": []
  },
  {
   "cell_type": "markdown",
   "id": "eebec4af",
   "metadata": {},
   "source": [
    "# Task3: How to detect and remove outliers using pandas?\n"
   ]
  },
  {
   "cell_type": "code",
   "execution_count": 25,
   "id": "53f5f411",
   "metadata": {},
   "outputs": [
    {
     "data": {
      "text/html": [
       "<div>\n",
       "<style scoped>\n",
       "    .dataframe tbody tr th:only-of-type {\n",
       "        vertical-align: middle;\n",
       "    }\n",
       "\n",
       "    .dataframe tbody tr th {\n",
       "        vertical-align: top;\n",
       "    }\n",
       "\n",
       "    .dataframe thead th {\n",
       "        text-align: right;\n",
       "    }\n",
       "</style>\n",
       "<table border=\"1\" class=\"dataframe\">\n",
       "  <thead>\n",
       "    <tr style=\"text-align: right;\">\n",
       "      <th></th>\n",
       "      <th>Name</th>\n",
       "      <th>Age</th>\n",
       "      <th>Address</th>\n",
       "    </tr>\n",
       "  </thead>\n",
       "  <tbody>\n",
       "    <tr>\n",
       "      <th>0</th>\n",
       "      <td>noor</td>\n",
       "      <td>-12</td>\n",
       "      <td>amman</td>\n",
       "    </tr>\n",
       "    <tr>\n",
       "      <th>1</th>\n",
       "      <td>esraa</td>\n",
       "      <td>2100</td>\n",
       "      <td>hebron</td>\n",
       "    </tr>\n",
       "    <tr>\n",
       "      <th>2</th>\n",
       "      <td>hamza</td>\n",
       "      <td>18</td>\n",
       "      <td>alquds</td>\n",
       "    </tr>\n",
       "    <tr>\n",
       "      <th>3</th>\n",
       "      <td>abdallah</td>\n",
       "      <td>-40</td>\n",
       "      <td>hebron</td>\n",
       "    </tr>\n",
       "    <tr>\n",
       "      <th>4</th>\n",
       "      <td>smaher</td>\n",
       "      <td>25</td>\n",
       "      <td>salt</td>\n",
       "    </tr>\n",
       "  </tbody>\n",
       "</table>\n",
       "</div>"
      ],
      "text/plain": [
       "       Name   Age Address\n",
       "0      noor   -12   amman\n",
       "1     esraa  2100  hebron\n",
       "2     hamza    18  alquds\n",
       "3  abdallah   -40  hebron\n",
       "4    smaher    25    salt"
      ]
     },
     "execution_count": 25,
     "metadata": {},
     "output_type": "execute_result"
    }
   ],
   "source": [
    "import numpy as np \n",
    "data = pd.DataFrame({\n",
    "    'Name':['noor', 'esraa', 'hamza', 'abdallah', 'smaher'],\n",
    "    'Age':[-12, 2100, 18, -40, 25],\n",
    "    'Address':['amman', 'hebron', 'alquds', 'hebron', 'salt'], \n",
    "})\n",
    "data"
   ]
  },
  {
   "cell_type": "code",
   "execution_count": 26,
   "id": "9ff5bd45",
   "metadata": {},
   "outputs": [
    {
     "data": {
      "text/html": [
       "<div>\n",
       "<style scoped>\n",
       "    .dataframe tbody tr th:only-of-type {\n",
       "        vertical-align: middle;\n",
       "    }\n",
       "\n",
       "    .dataframe tbody tr th {\n",
       "        vertical-align: top;\n",
       "    }\n",
       "\n",
       "    .dataframe thead th {\n",
       "        text-align: right;\n",
       "    }\n",
       "</style>\n",
       "<table border=\"1\" class=\"dataframe\">\n",
       "  <thead>\n",
       "    <tr style=\"text-align: right;\">\n",
       "      <th></th>\n",
       "      <th>Name</th>\n",
       "      <th>Age</th>\n",
       "      <th>Address</th>\n",
       "    </tr>\n",
       "  </thead>\n",
       "  <tbody>\n",
       "    <tr>\n",
       "      <th>2</th>\n",
       "      <td>hamza</td>\n",
       "      <td>18</td>\n",
       "      <td>alquds</td>\n",
       "    </tr>\n",
       "    <tr>\n",
       "      <th>4</th>\n",
       "      <td>smaher</td>\n",
       "      <td>25</td>\n",
       "      <td>salt</td>\n",
       "    </tr>\n",
       "  </tbody>\n",
       "</table>\n",
       "</div>"
      ],
      "text/plain": [
       "     Name  Age Address\n",
       "2   hamza   18  alquds\n",
       "4  smaher   25    salt"
      ]
     },
     "execution_count": 26,
     "metadata": {},
     "output_type": "execute_result"
    }
   ],
   "source": [
    "def remove_outlier():\n",
    "    filtered_data = data[(data['Age'] > 0) & (data['Age'] <= 100)]\n",
    "    return filtered_data\n",
    "\n",
    "remove_outlier()"
   ]
  },
  {
   "cell_type": "code",
   "execution_count": null,
   "id": "68e7a411",
   "metadata": {},
   "outputs": [],
   "source": []
  },
  {
   "cell_type": "markdown",
   "id": "7d09c5bb",
   "metadata": {},
   "source": [
    "# Task4: How to read random rows from our data?\n"
   ]
  },
  {
   "cell_type": "code",
   "execution_count": 27,
   "id": "b795b57a",
   "metadata": {},
   "outputs": [
    {
     "data": {
      "text/html": [
       "<div>\n",
       "<style scoped>\n",
       "    .dataframe tbody tr th:only-of-type {\n",
       "        vertical-align: middle;\n",
       "    }\n",
       "\n",
       "    .dataframe tbody tr th {\n",
       "        vertical-align: top;\n",
       "    }\n",
       "\n",
       "    .dataframe thead th {\n",
       "        text-align: right;\n",
       "    }\n",
       "</style>\n",
       "<table border=\"1\" class=\"dataframe\">\n",
       "  <thead>\n",
       "    <tr style=\"text-align: right;\">\n",
       "      <th></th>\n",
       "      <th>Name</th>\n",
       "      <th>Age</th>\n",
       "      <th>Address</th>\n",
       "    </tr>\n",
       "  </thead>\n",
       "  <tbody>\n",
       "    <tr>\n",
       "      <th>0</th>\n",
       "      <td>noor</td>\n",
       "      <td>12</td>\n",
       "      <td>amman</td>\n",
       "    </tr>\n",
       "    <tr>\n",
       "      <th>1</th>\n",
       "      <td>esraa</td>\n",
       "      <td>21</td>\n",
       "      <td>hebron</td>\n",
       "    </tr>\n",
       "    <tr>\n",
       "      <th>2</th>\n",
       "      <td>hamza</td>\n",
       "      <td>18</td>\n",
       "      <td>alquds</td>\n",
       "    </tr>\n",
       "    <tr>\n",
       "      <th>3</th>\n",
       "      <td>abdallah</td>\n",
       "      <td>40</td>\n",
       "      <td>hebron</td>\n",
       "    </tr>\n",
       "    <tr>\n",
       "      <th>4</th>\n",
       "      <td>smaher</td>\n",
       "      <td>25</td>\n",
       "      <td>salt</td>\n",
       "    </tr>\n",
       "  </tbody>\n",
       "</table>\n",
       "</div>"
      ],
      "text/plain": [
       "       Name  Age Address\n",
       "0      noor   12   amman\n",
       "1     esraa   21  hebron\n",
       "2     hamza   18  alquds\n",
       "3  abdallah   40  hebron\n",
       "4    smaher   25    salt"
      ]
     },
     "execution_count": 27,
     "metadata": {},
     "output_type": "execute_result"
    }
   ],
   "source": [
    "df = pd.DataFrame({\n",
    "    'Name':['noor', 'esraa', 'hamza', 'abdallah', 'smaher'],\n",
    "    'Age':[12, 21, 18, 40, 25],\n",
    "    'Address':['amman', 'hebron', 'alquds', 'hebron', 'salt'], \n",
    "})\n",
    "df"
   ]
  },
  {
   "cell_type": "code",
   "execution_count": 28,
   "id": "bc790f15",
   "metadata": {},
   "outputs": [
    {
     "data": {
      "text/html": [
       "<div>\n",
       "<style scoped>\n",
       "    .dataframe tbody tr th:only-of-type {\n",
       "        vertical-align: middle;\n",
       "    }\n",
       "\n",
       "    .dataframe tbody tr th {\n",
       "        vertical-align: top;\n",
       "    }\n",
       "\n",
       "    .dataframe thead th {\n",
       "        text-align: right;\n",
       "    }\n",
       "</style>\n",
       "<table border=\"1\" class=\"dataframe\">\n",
       "  <thead>\n",
       "    <tr style=\"text-align: right;\">\n",
       "      <th></th>\n",
       "      <th>Name</th>\n",
       "      <th>Age</th>\n",
       "      <th>Address</th>\n",
       "    </tr>\n",
       "  </thead>\n",
       "  <tbody>\n",
       "    <tr>\n",
       "      <th>0</th>\n",
       "      <td>noor</td>\n",
       "      <td>12</td>\n",
       "      <td>amman</td>\n",
       "    </tr>\n",
       "  </tbody>\n",
       "</table>\n",
       "</div>"
      ],
      "text/plain": [
       "   Name  Age Address\n",
       "0  noor   12   amman"
      ]
     },
     "execution_count": 28,
     "metadata": {},
     "output_type": "execute_result"
    }
   ],
   "source": [
    "#1 use sample()\n",
    "df.sample()"
   ]
  },
  {
   "cell_type": "code",
   "execution_count": 29,
   "id": "8034456d",
   "metadata": {},
   "outputs": [
    {
     "data": {
      "text/html": [
       "<div>\n",
       "<style scoped>\n",
       "    .dataframe tbody tr th:only-of-type {\n",
       "        vertical-align: middle;\n",
       "    }\n",
       "\n",
       "    .dataframe tbody tr th {\n",
       "        vertical-align: top;\n",
       "    }\n",
       "\n",
       "    .dataframe thead th {\n",
       "        text-align: right;\n",
       "    }\n",
       "</style>\n",
       "<table border=\"1\" class=\"dataframe\">\n",
       "  <thead>\n",
       "    <tr style=\"text-align: right;\">\n",
       "      <th></th>\n",
       "      <th>Name</th>\n",
       "      <th>Age</th>\n",
       "      <th>Address</th>\n",
       "    </tr>\n",
       "  </thead>\n",
       "  <tbody>\n",
       "    <tr>\n",
       "      <th>2</th>\n",
       "      <td>hamza</td>\n",
       "      <td>18</td>\n",
       "      <td>alquds</td>\n",
       "    </tr>\n",
       "    <tr>\n",
       "      <th>3</th>\n",
       "      <td>abdallah</td>\n",
       "      <td>40</td>\n",
       "      <td>hebron</td>\n",
       "    </tr>\n",
       "    <tr>\n",
       "      <th>0</th>\n",
       "      <td>noor</td>\n",
       "      <td>12</td>\n",
       "      <td>amman</td>\n",
       "    </tr>\n",
       "  </tbody>\n",
       "</table>\n",
       "</div>"
      ],
      "text/plain": [
       "       Name  Age Address\n",
       "2     hamza   18  alquds\n",
       "3  abdallah   40  hebron\n",
       "0      noor   12   amman"
      ]
     },
     "execution_count": 29,
     "metadata": {},
     "output_type": "execute_result"
    }
   ],
   "source": [
    "#2\n",
    "df.sample(3)"
   ]
  },
  {
   "cell_type": "code",
   "execution_count": 30,
   "id": "e8b4fb05",
   "metadata": {},
   "outputs": [
    {
     "data": {
      "text/html": [
       "<div>\n",
       "<style scoped>\n",
       "    .dataframe tbody tr th:only-of-type {\n",
       "        vertical-align: middle;\n",
       "    }\n",
       "\n",
       "    .dataframe tbody tr th {\n",
       "        vertical-align: top;\n",
       "    }\n",
       "\n",
       "    .dataframe thead th {\n",
       "        text-align: right;\n",
       "    }\n",
       "</style>\n",
       "<table border=\"1\" class=\"dataframe\">\n",
       "  <thead>\n",
       "    <tr style=\"text-align: right;\">\n",
       "      <th></th>\n",
       "      <th>Name</th>\n",
       "      <th>Age</th>\n",
       "      <th>Address</th>\n",
       "    </tr>\n",
       "  </thead>\n",
       "  <tbody>\n",
       "    <tr>\n",
       "      <th>3</th>\n",
       "      <td>abdallah</td>\n",
       "      <td>40</td>\n",
       "      <td>hebron</td>\n",
       "    </tr>\n",
       "    <tr>\n",
       "      <th>2</th>\n",
       "      <td>hamza</td>\n",
       "      <td>18</td>\n",
       "      <td>alquds</td>\n",
       "    </tr>\n",
       "    <tr>\n",
       "      <th>0</th>\n",
       "      <td>noor</td>\n",
       "      <td>12</td>\n",
       "      <td>amman</td>\n",
       "    </tr>\n",
       "  </tbody>\n",
       "</table>\n",
       "</div>"
      ],
      "text/plain": [
       "       Name  Age Address\n",
       "3  abdallah   40  hebron\n",
       "2     hamza   18  alquds\n",
       "0      noor   12   amman"
      ]
     },
     "execution_count": 30,
     "metadata": {},
     "output_type": "execute_result"
    }
   ],
   "source": [
    "#3 fraction of rows\n",
    "df.sample(frac =0.6)"
   ]
  },
  {
   "cell_type": "code",
   "execution_count": null,
   "id": "a3ac5a83",
   "metadata": {},
   "outputs": [],
   "source": []
  },
  {
   "cell_type": "markdown",
   "id": "9d7f2a02",
   "metadata": {},
   "source": [
    "# Task5: How to combine more than two dataframes at the same time?\n"
   ]
  },
  {
   "cell_type": "code",
   "execution_count": 31,
   "id": "68f320b1",
   "metadata": {},
   "outputs": [],
   "source": [
    "df1 = pd.DataFrame({\n",
    "    'Name':['noor', 'esraa', 'hamza'],\n",
    "    'Age':[12, 21, 18],\n",
    "})\n",
    "df2 = pd.DataFrame({\n",
    "    'Name':['esraa', 'hamza', 'abdallah', 'smaher'],\n",
    "    'Address':['hebron', 'alquds', 'hebron', 'salt'], \n",
    "})\n",
    "df3 = pd.DataFrame({\n",
    "    'Name':['noor', 'hamza', 'abdallah', 'smaher', 'abdalrhman'],\n",
    "    'gender':['femail', 'mail', 'mail', 'femail', 'mail'], \n",
    "})"
   ]
  },
  {
   "cell_type": "code",
   "execution_count": 32,
   "id": "ede82ca2",
   "metadata": {},
   "outputs": [
    {
     "data": {
      "text/html": [
       "<div>\n",
       "<style scoped>\n",
       "    .dataframe tbody tr th:only-of-type {\n",
       "        vertical-align: middle;\n",
       "    }\n",
       "\n",
       "    .dataframe tbody tr th {\n",
       "        vertical-align: top;\n",
       "    }\n",
       "\n",
       "    .dataframe thead th {\n",
       "        text-align: right;\n",
       "    }\n",
       "</style>\n",
       "<table border=\"1\" class=\"dataframe\">\n",
       "  <thead>\n",
       "    <tr style=\"text-align: right;\">\n",
       "      <th></th>\n",
       "      <th>Name</th>\n",
       "      <th>Age</th>\n",
       "      <th>Address</th>\n",
       "      <th>gender</th>\n",
       "    </tr>\n",
       "  </thead>\n",
       "  <tbody>\n",
       "    <tr>\n",
       "      <th>0</th>\n",
       "      <td>noor</td>\n",
       "      <td>12.0</td>\n",
       "      <td>NaN</td>\n",
       "      <td>femail</td>\n",
       "    </tr>\n",
       "    <tr>\n",
       "      <th>1</th>\n",
       "      <td>esraa</td>\n",
       "      <td>21.0</td>\n",
       "      <td>hebron</td>\n",
       "      <td>NaN</td>\n",
       "    </tr>\n",
       "    <tr>\n",
       "      <th>2</th>\n",
       "      <td>hamza</td>\n",
       "      <td>18.0</td>\n",
       "      <td>alquds</td>\n",
       "      <td>mail</td>\n",
       "    </tr>\n",
       "    <tr>\n",
       "      <th>3</th>\n",
       "      <td>abdallah</td>\n",
       "      <td>NaN</td>\n",
       "      <td>hebron</td>\n",
       "      <td>mail</td>\n",
       "    </tr>\n",
       "    <tr>\n",
       "      <th>4</th>\n",
       "      <td>smaher</td>\n",
       "      <td>NaN</td>\n",
       "      <td>salt</td>\n",
       "      <td>femail</td>\n",
       "    </tr>\n",
       "    <tr>\n",
       "      <th>5</th>\n",
       "      <td>abdalrhman</td>\n",
       "      <td>NaN</td>\n",
       "      <td>NaN</td>\n",
       "      <td>mail</td>\n",
       "    </tr>\n",
       "  </tbody>\n",
       "</table>\n",
       "</div>"
      ],
      "text/plain": [
       "         Name   Age Address  gender\n",
       "0        noor  12.0     NaN  femail\n",
       "1       esraa  21.0  hebron     NaN\n",
       "2       hamza  18.0  alquds    mail\n",
       "3    abdallah   NaN  hebron    mail\n",
       "4      smaher   NaN    salt  femail\n",
       "5  abdalrhman   NaN     NaN    mail"
      ]
     },
     "execution_count": 32,
     "metadata": {},
     "output_type": "execute_result"
    }
   ],
   "source": [
    "data = pd.merge(pd.merge(df1, df2, on=\"Name\", how=\"outer\"), df3, on=\"Name\", how=\"outer\")\n",
    "data              "
   ]
  },
  {
   "cell_type": "code",
   "execution_count": null,
   "id": "80c74f2a",
   "metadata": {},
   "outputs": [],
   "source": []
  },
  {
   "cell_type": "markdown",
   "id": "5a0971a7",
   "metadata": {},
   "source": [
    "# Task6: Replace data in specific columns with specific value.\n"
   ]
  },
  {
   "cell_type": "code",
   "execution_count": 33,
   "id": "080110ec",
   "metadata": {},
   "outputs": [],
   "source": [
    "df = pd.DataFrame({\n",
    "    'Name':['noor', 'esraa', 'hamza', 'abdallah', 'smaher'],\n",
    "    'Age':[12, 21, 18, 40, 25],\n",
    "    'Address':['amman', 'hebron', 'alquds', 'hebron', 'salt'], \n",
    "})"
   ]
  },
  {
   "cell_type": "code",
   "execution_count": 34,
   "id": "0445eb8d",
   "metadata": {},
   "outputs": [
    {
     "data": {
      "text/html": [
       "<div>\n",
       "<style scoped>\n",
       "    .dataframe tbody tr th:only-of-type {\n",
       "        vertical-align: middle;\n",
       "    }\n",
       "\n",
       "    .dataframe tbody tr th {\n",
       "        vertical-align: top;\n",
       "    }\n",
       "\n",
       "    .dataframe thead th {\n",
       "        text-align: right;\n",
       "    }\n",
       "</style>\n",
       "<table border=\"1\" class=\"dataframe\">\n",
       "  <thead>\n",
       "    <tr style=\"text-align: right;\">\n",
       "      <th></th>\n",
       "      <th>Name</th>\n",
       "      <th>Age</th>\n",
       "      <th>Address</th>\n",
       "    </tr>\n",
       "  </thead>\n",
       "  <tbody>\n",
       "    <tr>\n",
       "      <th>0</th>\n",
       "      <td>noor</td>\n",
       "      <td>children</td>\n",
       "      <td>amman</td>\n",
       "    </tr>\n",
       "    <tr>\n",
       "      <th>1</th>\n",
       "      <td>esraa</td>\n",
       "      <td>adult</td>\n",
       "      <td>hebron</td>\n",
       "    </tr>\n",
       "    <tr>\n",
       "      <th>2</th>\n",
       "      <td>hamza</td>\n",
       "      <td>adult</td>\n",
       "      <td>alquds</td>\n",
       "    </tr>\n",
       "    <tr>\n",
       "      <th>3</th>\n",
       "      <td>abdallah</td>\n",
       "      <td>old</td>\n",
       "      <td>hebron</td>\n",
       "    </tr>\n",
       "    <tr>\n",
       "      <th>4</th>\n",
       "      <td>smaher</td>\n",
       "      <td>adult</td>\n",
       "      <td>salt</td>\n",
       "    </tr>\n",
       "  </tbody>\n",
       "</table>\n",
       "</div>"
      ],
      "text/plain": [
       "       Name       Age Address\n",
       "0      noor  children   amman\n",
       "1     esraa     adult  hebron\n",
       "2     hamza     adult  alquds\n",
       "3  abdallah       old  hebron\n",
       "4    smaher     adult    salt"
      ]
     },
     "execution_count": 34,
     "metadata": {},
     "output_type": "execute_result"
    }
   ],
   "source": [
    "change_age = df.replace([12, 21, 18, 40, 25],[\"children\", \"adult\", \"adult\", \"old\", \"adult\"])\n",
    "change_age"
   ]
  },
  {
   "cell_type": "code",
   "execution_count": null,
   "id": "1ba8cdd7",
   "metadata": {},
   "outputs": [],
   "source": []
  },
  {
   "cell_type": "markdown",
   "id": "b9004384",
   "metadata": {},
   "source": [
    "# Task7: Write dataframes to two separate sheets in excel.\n"
   ]
  },
  {
   "cell_type": "code",
   "execution_count": 35,
   "id": "2af62840",
   "metadata": {},
   "outputs": [],
   "source": [
    "df_first = pd.DataFrame({\n",
    "    \"city\": [\"new york\", \"chicago\", \"orlando\"],\n",
    "    \"temperature\": [21, 14, 35],\n",
    "}, index=[2, 0, 1])"
   ]
  },
  {
   "cell_type": "code",
   "execution_count": 36,
   "id": "40503e71",
   "metadata": {},
   "outputs": [],
   "source": [
    "df_second = pd.DataFrame({\n",
    "    'Name':['noor', 'esraa', 'hamza', 'abdallah', 'smaher'],\n",
    "    'Age':[12, 21, 18, 40, 25],\n",
    "    'Address':['amman', 'hebron', 'alquds', 'hebron', 'salt'], \n",
    "})"
   ]
  },
  {
   "cell_type": "code",
   "execution_count": 37,
   "id": "8c47ae15",
   "metadata": {},
   "outputs": [],
   "source": [
    "with pd.ExcelWriter('first_second.xlsx') as writer:\n",
    "    df_first.to_excel(writer, sheet_name=\"first\")\n",
    "    df_second.to_excel(writer, sheet_name=\"second\")"
   ]
  },
  {
   "cell_type": "code",
   "execution_count": null,
   "id": "85626622",
   "metadata": {},
   "outputs": [],
   "source": []
  }
 ],
 "metadata": {
  "kernelspec": {
   "display_name": "Python 3 (ipykernel)",
   "language": "python",
   "name": "python3"
  },
  "language_info": {
   "codemirror_mode": {
    "name": "ipython",
    "version": 3
   },
   "file_extension": ".py",
   "mimetype": "text/x-python",
   "name": "python",
   "nbconvert_exporter": "python",
   "pygments_lexer": "ipython3",
   "version": "3.11.3"
  }
 },
 "nbformat": 4,
 "nbformat_minor": 5
}
