{
 "cells": [
  {
   "cell_type": "markdown",
   "id": "759d04ba",
   "metadata": {},
   "source": [
    "#1-Write a Python program to calculate the length of a string using 2 ways"
   ]
  },
  {
   "cell_type": "code",
   "execution_count": 20,
   "id": "e434c950",
   "metadata": {},
   "outputs": [
    {
     "name": "stdout",
     "output_type": "stream",
     "text": [
      "6\n"
     ]
    }
   ],
   "source": [
    "var = \"welcom\"\n",
    "print(len(var))"
   ]
  },
  {
   "cell_type": "code",
   "execution_count": 21,
   "id": "7a2dfa32",
   "metadata": {},
   "outputs": [
    {
     "name": "stdout",
     "output_type": "stream",
     "text": [
      "6\n"
     ]
    }
   ],
   "source": [
    "def length(name):\n",
    "    counter = 0\n",
    "    for i in name:\n",
    "        counter += 1\n",
    "    return counter\n",
    "name = \"welcom\"\n",
    "print(length(name))"
   ]
  },
  {
   "cell_type": "markdown",
   "id": "d7cc9da7",
   "metadata": {},
   "source": [
    "**2-Write a Python program to get a string made of the first 2 and last 2 characters of a given string. If the string length is less than 2, return the empty string instead (\"##Sample String : 'w3resource'\n",
    "Expected Result : 'w3ce'\n",
    "##Sample String : 'w3'\n",
    "Expected Result : 'w3w3'\n",
    "##Sample String : ' w'\n",
    "Expected Result : Empty String)"
   ]
  },
  {
   "cell_type": "code",
   "execution_count": 23,
   "id": "dafa9dd8",
   "metadata": {},
   "outputs": [
    {
     "name": "stdout",
     "output_type": "stream",
     "text": [
      "wearehuman\n",
      "wean\n"
     ]
    }
   ],
   "source": [
    "str = input()\n",
    "index1= str[0:2]\n",
    "index2= str[-2:]\n",
    "if len(str) < 2:\n",
    "    print(\"\")\n",
    "else:\n",
    "    new_str = index1 + index2\n",
    "    print(new_str)"
   ]
  },
  {
   "cell_type": "markdown",
   "id": "1534f956",
   "metadata": {},
   "source": [
    "**3-Write a Python program to add 'ing' at the end of a given string (length should be at least 3). If the given string already ends with 'ing', add 'ly' instead. If the string length of the given string is less than 3, leave it unchanged. (Sample String : 'abc'\n",
    "Expected Result : 'abcing')"
   ]
  },
  {
   "cell_type": "code",
   "execution_count": 28,
   "id": "7ff8cec4",
   "metadata": {},
   "outputs": [
    {
     "name": "stdout",
     "output_type": "stream",
     "text": [
      "hu\n",
      "\n"
     ]
    }
   ],
   "source": [
    "str = input()\n",
    "if len(str)<3:\n",
    "    print(\"\")\n",
    "else:\n",
    "    if str[-3:] ==\"ing\":\n",
    "        new_str = str[0:-3] + \"ly\"\n",
    "        print(new_str)\n",
    "    else:\n",
    "        new_str = str+ \"ing\"\n",
    "        print(new_str)\n",
    "    "
   ]
  },
  {
   "cell_type": "markdown",
   "id": "1c0a6627",
   "metadata": {},
   "source": [
    "**4-Write a Python function that takes a list of words and return the longest word and the length of the longest one\n",
    "(Longest word: Exercises\n",
    "Length of the longest word: 9)"
   ]
  },
  {
   "cell_type": "code",
   "execution_count": 52,
   "id": "397341d9",
   "metadata": {},
   "outputs": [
    {
     "name": "stdout",
     "output_type": "stream",
     "text": [
      "shv ohiybjhj klh rssfb lkjihgjj bjuhn\n",
      "('ohiybjhj', 8)\n"
     ]
    }
   ],
   "source": [
    "def long_word(list):\n",
    "    maxlen = 0\n",
    "    maxw = None\n",
    "    for i in list:\n",
    "        if len(i)> maxlen:\n",
    "            maxlen = len(i)\n",
    "            maxw = i\n",
    "            \n",
    "    return maxw, maxlen        \n",
    "list = input().split()\n",
    "print(long_word(list))\n",
    "            \n",
    "            "
   ]
  },
  {
   "cell_type": "markdown",
   "id": "53a03a6a",
   "metadata": {},
   "source": [
    "**5-Write a Python program to change a given string to a newly string where the first and last chars have been exchanged using 2 ways (Sample String:abca  Expected Result:ebce)"
   ]
  },
  {
   "cell_type": "code",
   "execution_count": 58,
   "id": "fd327d2a",
   "metadata": {},
   "outputs": [
    {
     "name": "stdout",
     "output_type": "stream",
     "text": [
      "tgnikop\n"
     ]
    },
    {
     "data": {
      "text/plain": [
       "'pgnikot'"
      ]
     },
     "execution_count": 58,
     "metadata": {},
     "output_type": "execute_result"
    }
   ],
   "source": [
    "str = input()\n",
    "new = str[-1]+str[1:-1]+str[0]\n",
    "new"
   ]
  },
  {
   "cell_type": "code",
   "execution_count": 72,
   "id": "285788b4",
   "metadata": {},
   "outputs": [
    {
     "name": "stdout",
     "output_type": "stream",
     "text": [
      "igytft\n",
      "tgyifi\n"
     ]
    }
   ],
   "source": [
    "str = input()\n",
    "first = str[0]\n",
    "sec = str[-1]\n",
    "new = str.maketrans(sec+first,first+sec)\n",
    "print(str.translate(new))"
   ]
  },
  {
   "cell_type": "markdown",
   "id": "25f89808",
   "metadata": {},
   "source": [
    "**6-Write a Python program to remove characters that have odd index values in a given string (Sample String:abca Expected Result:ac)"
   ]
  },
  {
   "cell_type": "code",
   "execution_count": 100,
   "id": "05959bd7",
   "metadata": {
    "scrolled": true
   },
   "outputs": [
    {
     "name": "stdout",
     "output_type": "stream",
     "text": [
      "khgfuik\n",
      "kguk\n"
     ]
    }
   ],
   "source": [
    "var = input()\n",
    "count = \"\"\n",
    "for i in var:\n",
    "    if var.index(i) % 2 == 0:\n",
    "        count += i\n",
    "        \n",
    "print(count)    \n"
   ]
  },
  {
   "cell_type": "markdown",
   "id": "eb16e898",
   "metadata": {},
   "source": [
    "**7-Write a Python program to count the occurrences of each word in a given sentence (Sample String:amr and ahmed are frindes but amr is the tallest Expected Result:2)"
   ]
  },
  {
   "cell_type": "code",
   "execution_count": 118,
   "id": "01ce6cf5",
   "metadata": {},
   "outputs": [
    {
     "name": "stdout",
     "output_type": "stream",
     "text": [
      "amr  :  2\n",
      "and  :  1\n",
      "ahmed  :  1\n",
      "are  :  1\n",
      "frindes  :  1\n",
      "but  :  1\n",
      "amr  :  2\n",
      "is  :  1\n",
      "the  :  1\n",
      "tallest  :  1\n"
     ]
    }
   ],
   "source": [
    "str = \"amr and ahmed are frindes but amr is the tallest\"\n",
    "words = str.split()\n",
    "for word in words:\n",
    "    count = str.count(word)\n",
    "    print(word,\" : \",count)"
   ]
  },
  {
   "cell_type": "markdown",
   "id": "4e8125f1",
   "metadata": {},
   "source": [
    "**8-Write a Python script that takes input from the user and displays that input back in upper and lower cases"
   ]
  },
  {
   "cell_type": "code",
   "execution_count": 125,
   "id": "66c8f778",
   "metadata": {},
   "outputs": [
    {
     "name": "stdout",
     "output_type": "stream",
     "text": [
      "ztdHREHR\n",
      "ZTDHREHR\n",
      "ztdhrehr\n"
     ]
    }
   ],
   "source": [
    "var = input()\n",
    "upp = var.upper()\n",
    "print(upp)\n",
    "low = var.lower()\n",
    "print(low)"
   ]
  },
  {
   "cell_type": "markdown",
   "id": "fcd68aa1",
   "metadata": {},
   "source": [
    "**9-Write a Python function to reverse a string if its length is a multiple of 4"
   ]
  },
  {
   "cell_type": "code",
   "execution_count": 140,
   "id": "0671a931",
   "metadata": {},
   "outputs": [
    {
     "name": "stdout",
     "output_type": "stream",
     "text": [
      "oimuyrtw\n",
      "wtryumio\n"
     ]
    }
   ],
   "source": [
    "str = input()\n",
    "if len(str) % 4 == 0:\n",
    "    new = str[::-1]\n",
    "    print(new)\n",
    "else:\n",
    "    print(\"worng\")\n",
    "\n",
    "    "
   ]
  },
  {
   "cell_type": "markdown",
   "id": "b577c68d",
   "metadata": {},
   "source": [
    "**10- Write a Python program to remove a newline in Python"
   ]
  },
  {
   "cell_type": "code",
   "execution_count": 160,
   "id": "e0c6525a",
   "metadata": {},
   "outputs": [
    {
     "data": {
      "text/plain": [
       "'esraa abdallah hasan'"
      ]
     },
     "execution_count": 160,
     "metadata": {},
     "output_type": "execute_result"
    }
   ],
   "source": [
    "name = '''esraa\n",
    "abdallah\n",
    "hasan'''\n",
    "n = name.replace(\"\\n\",\" \")\n",
    "n"
   ]
  },
  {
   "cell_type": "markdown",
   "id": "80db5ae0",
   "metadata": {},
   "source": [
    "**11-Write a Python program to check whether a string starts with specific characters"
   ]
  },
  {
   "cell_type": "code",
   "execution_count": 190,
   "id": "0cc4e03e",
   "metadata": {},
   "outputs": [
    {
     "name": "stdout",
     "output_type": "stream",
     "text": [
      "djb\n",
      "True\n"
     ]
    }
   ],
   "source": [
    "def d_word(string):\n",
    "    spilte = string.split()\n",
    "    char = \"Dd\"    \n",
    "    for word in spilte:\n",
    "        if word[0] not in char:\n",
    "            return False\n",
    "        else:\n",
    "            return True \n",
    "string = input()\n",
    "result = d_word(string)\n",
    "print(result)"
   ]
  },
  {
   "cell_type": "markdown",
   "id": "593a68db",
   "metadata": {},
   "source": [
    "**12- Write a Python program to add prefix text to all of the lines in a string"
   ]
  },
  {
   "cell_type": "code",
   "execution_count": 196,
   "id": "d2e46ada",
   "metadata": {
    "scrolled": true
   },
   "outputs": [
    {
     "name": "stdout",
     "output_type": "stream",
     "text": [
      "Thanks hamza\n",
      "Thanks noor\n",
      "Thanks abdalrhman\n"
     ]
    }
   ],
   "source": [
    "var = '''hamza\n",
    "noor\n",
    "abdalrhman\n",
    "'''\n",
    "line = var.splitlines()\n",
    "for word in line:\n",
    "    prefix = \"Thanks \"\n",
    "    print (prefix + word)\n"
   ]
  },
  {
   "cell_type": "markdown",
   "id": "86fa1543",
   "metadata": {},
   "source": [
    "**13-Write a Python program to print the following numbers up to 2 decimal places"
   ]
  },
  {
   "cell_type": "code",
   "execution_count": 227,
   "id": "cd4a9d89",
   "metadata": {
    "scrolled": false
   },
   "outputs": [
    {
     "name": "stdout",
     "output_type": "stream",
     "text": [
      "+3.48210\n",
      "3.48\n"
     ]
    }
   ],
   "source": [
    "num = float(input())\n",
    "print(\"{:.2f}\".format(num))"
   ]
  },
  {
   "cell_type": "markdown",
   "id": "452c0ab0",
   "metadata": {},
   "source": [
    "**14-Write a Python program to print the following numbers up to 2 decimal places with a sign"
   ]
  },
  {
   "cell_type": "code",
   "execution_count": 226,
   "id": "73e82479",
   "metadata": {},
   "outputs": [
    {
     "name": "stdout",
     "output_type": "stream",
     "text": [
      "-9.14\n",
      "+22.73\n",
      "-11.21\n",
      "+0.74\n"
     ]
    }
   ],
   "source": [
    "numbers = [-9.14258, 22.73127, -11.21345, 0.735905]\n",
    "for num in numbers:\n",
    "    print(f\"{num:+.2f}\")\n"
   ]
  },
  {
   "cell_type": "markdown",
   "id": "32b1811a",
   "metadata": {},
   "source": [
    "**15-Write a Python program to display a number with a comma separator"
   ]
  },
  {
   "cell_type": "code",
   "execution_count": 2,
   "id": "b62e1765",
   "metadata": {},
   "outputs": [
    {
     "name": "stdout",
     "output_type": "stream",
     "text": [
      "7582453.74584\n",
      "7,582,453,.74,584\n"
     ]
    }
   ],
   "source": [
    "number = float(input())\n",
    "num_str = str(number)\n",
    "count = 0\n",
    "formatted_num = \"\"\n",
    "\n",
    "for i in num_str[::-1]:\n",
    "    if count == 3:\n",
    "        formatted_num += \",\"\n",
    "        count = 0\n",
    "    formatted_num += i\n",
    "    count += 1\n",
    "\n",
    "formatted_num = formatted_num[::-1]\n",
    "print(formatted_num)\n"
   ]
  },
  {
   "cell_type": "markdown",
   "id": "0477f487",
   "metadata": {},
   "source": [
    "**16-Write a Python program to reverse a string using 2 ways"
   ]
  },
  {
   "cell_type": "code",
   "execution_count": 11,
   "id": "aa8beec8",
   "metadata": {
    "scrolled": true
   },
   "outputs": [
    {
     "name": "stdout",
     "output_type": "stream",
     "text": [
      "wdfggda\n"
     ]
    },
    {
     "data": {
      "text/plain": [
       "'adggfdw'"
      ]
     },
     "execution_count": 11,
     "metadata": {},
     "output_type": "execute_result"
    }
   ],
   "source": [
    "num = input()\n",
    "new = num[::-1]\n",
    "new\n"
   ]
  },
  {
   "cell_type": "code",
   "execution_count": 12,
   "id": "2e8ba380",
   "metadata": {},
   "outputs": [
    {
     "data": {
      "text/plain": [
       "'adggfdw'"
      ]
     },
     "execution_count": 12,
     "metadata": {},
     "output_type": "execute_result"
    }
   ],
   "source": [
    "reverse = ''.join(reversed(num))\n",
    "reverse"
   ]
  },
  {
   "cell_type": "markdown",
   "id": "5afc3166",
   "metadata": {},
   "source": [
    " **17-Write a Python program to count repeated characters in a string (hint:use dictionary)"
   ]
  },
  {
   "cell_type": "code",
   "execution_count": 4,
   "id": "515a469c",
   "metadata": {
    "scrolled": true
   },
   "outputs": [
    {
     "name": "stdout",
     "output_type": "stream",
     "text": [
      "Write a Python program\n",
      "r is repeated 3 times\n",
      "t is repeated 2 times\n",
      "a is repeated 2 times\n",
      "o is repeated 2 times\n"
     ]
    }
   ],
   "source": [
    "def repeated_char(input_str):\n",
    "    char = {}\n",
    "    for i in input_str:\n",
    "        if i in char:\n",
    "            if i != \" \":\n",
    "                char[i] +=1\n",
    "        else:\n",
    "            char[i] =1\n",
    "    for i in char:\n",
    "        if char[i]>1:\n",
    "            print(i ,\"is repeated\", char[i],\"times\")\n",
    "    return char\n",
    "\n",
    "input_str = \"Write a Python program\"\n",
    "print(input_str)\n",
    "repeated_char(input_str);\n"
   ]
  },
  {
   "cell_type": "markdown",
   "id": "ae14e4e5",
   "metadata": {},
   "source": [
    "**18-Write a Python program to find the first non-repeating character in a given string"
   ]
  },
  {
   "cell_type": "code",
   "execution_count": 3,
   "id": "d73778e5",
   "metadata": {},
   "outputs": [
    {
     "name": "stdout",
     "output_type": "stream",
     "text": [
      "find the first non-repeating\n",
      "d is the first char non repeated\n"
     ]
    }
   ],
   "source": [
    "def non_repeated_char(input_str):\n",
    "    char = []\n",
    "    for i in input_str:\n",
    "        char.append(i)\n",
    "    for i in char:\n",
    "        if char.count(i) == 1:\n",
    "            print(i ,\"is the first char non repeated\")\n",
    "            break\n",
    "    return char\n",
    "\n",
    "input_str = \"find the first non-repeating\"\n",
    "print(input_str)\n",
    "non_repeated_char(input_str);\n"
   ]
  },
  {
   "cell_type": "markdown",
   "id": "3adf5669",
   "metadata": {},
   "source": [
    "**19-Write a Python program to remove spaces from a given string"
   ]
  },
  {
   "cell_type": "code",
   "execution_count": 18,
   "id": "b4f22602",
   "metadata": {},
   "outputs": [
    {
     "name": "stdout",
     "output_type": "stream",
     "text": [
      "WriteaPythonprogramtoremovespacesfromagivenstring"
     ]
    }
   ],
   "source": [
    "string = \"Write a Python program to remove spaces from a given string\"\n",
    "for i in string:\n",
    "    if i != \" \":\n",
    "        print(i,end=\"\")\n",
    "    else:\n",
    "        continue\n"
   ]
  },
  {
   "cell_type": "markdown",
   "id": "734de60c",
   "metadata": {},
   "source": [
    "**20-Write a Python program to count the number of non-empty substrings of a given string"
   ]
  },
  {
   "cell_type": "code",
   "execution_count": 25,
   "id": "d262c4aa",
   "metadata": {},
   "outputs": [
    {
     "name": "stdout",
     "output_type": "stream",
     "text": [
      "the number of non-empty substrings : 21\n"
     ]
    }
   ],
   "source": [
    "def count_substring(input_str):\n",
    "    \n",
    "    count = len(input_str) * (len(input_str) + 1) // 2\n",
    "    return count\n",
    "\n",
    "input_str = \"Python\"\n",
    "result = count_substrings(input_str)\n",
    "print(\"the number of non-empty substrings :\", result)\n"
   ]
  },
  {
   "cell_type": "markdown",
   "id": "509998e2",
   "metadata": {},
   "source": [
    "**21-write a Python program to swap first and last element of any list."
   ]
  },
  {
   "cell_type": "code",
   "execution_count": 37,
   "id": "68692d7f",
   "metadata": {},
   "outputs": [
    {
     "name": "stdout",
     "output_type": "stream",
     "text": [
      "[1, 2, 4, 5, 6, 'ahmed', 'hossam', 'ali', 1.3, True]\n",
      "[True, 2, 4, 5, 6, 'ahmed', 'hossam', 'ali', 1.3, 1]\n"
     ]
    }
   ],
   "source": [
    "lis =[1, 2, 4, 5, 6, \"ahmed\", \"hossam\", \"ali\", 1.3, True]\n",
    "print(lis)\n",
    "lis[0],lis[-1]=lis[-1],lis[0]\n",
    "print(lis)"
   ]
  },
  {
   "cell_type": "markdown",
   "id": "959e0837",
   "metadata": {},
   "source": [
    "**22-Given a list in Python and provided the positions of the elements, write a program to swap the two elements in the list. (Input : List = [23, 65, 19, 90], pos1 = 1, pos2 = 3\n",
    "Output : [19, 65, 23, 90])"
   ]
  },
  {
   "cell_type": "code",
   "execution_count": 38,
   "id": "225d8c6d",
   "metadata": {},
   "outputs": [
    {
     "name": "stdout",
     "output_type": "stream",
     "text": [
      "4\n",
      "2\n"
     ]
    },
    {
     "data": {
      "text/plain": [
       "[5, 7, 2, 0, 9, 6]"
      ]
     },
     "execution_count": 38,
     "metadata": {},
     "output_type": "execute_result"
    }
   ],
   "source": [
    "list1 = [5,7,9,0,2,6]\n",
    "position1=int(input())\n",
    "position2=int(input())\n",
    "list1[position1],list1[position2]=list1[position2],list1[position1]\n",
    "list1"
   ]
  },
  {
   "cell_type": "markdown",
   "id": "66fc6682",
   "metadata": {},
   "source": [
    "**23- search for the all ways to know the length of the list"
   ]
  },
  {
   "cell_type": "code",
   "execution_count": 39,
   "id": "304fbb06",
   "metadata": {},
   "outputs": [
    {
     "data": {
      "text/plain": [
       "6"
      ]
     },
     "execution_count": 39,
     "metadata": {},
     "output_type": "execute_result"
    }
   ],
   "source": [
    "list1 = [5,7,9,0,2,6]\n",
    "len(list1)\n"
   ]
  },
  {
   "cell_type": "code",
   "execution_count": 40,
   "id": "ea1aac72",
   "metadata": {},
   "outputs": [
    {
     "data": {
      "text/plain": [
       "6"
      ]
     },
     "execution_count": 40,
     "metadata": {},
     "output_type": "execute_result"
    }
   ],
   "source": [
    "list1 = [5,7,9,0,2,6]\n",
    "counter = 0\n",
    "for i in list1:\n",
    "    counter +=1\n",
    "counter"
   ]
  },
  {
   "cell_type": "markdown",
   "id": "ff06bedd",
   "metadata": {},
   "source": [
    "**24-write a Python code to find the Maximum number of list of numbers."
   ]
  },
  {
   "cell_type": "code",
   "execution_count": 44,
   "id": "15f342de",
   "metadata": {},
   "outputs": [
    {
     "data": {
      "text/plain": [
       "9"
      ]
     },
     "execution_count": 44,
     "metadata": {},
     "output_type": "execute_result"
    }
   ],
   "source": [
    "list1 = [5,7,9,0,2,6]\n",
    "max(list1)"
   ]
  },
  {
   "cell_type": "markdown",
   "id": "c03a1bb8",
   "metadata": {},
   "source": [
    "**25-write a Python code to find the Minimum number of list of numbers."
   ]
  },
  {
   "cell_type": "code",
   "execution_count": 46,
   "id": "21f8cbd6",
   "metadata": {},
   "outputs": [
    {
     "data": {
      "text/plain": [
       "2"
      ]
     },
     "execution_count": 46,
     "metadata": {},
     "output_type": "execute_result"
    }
   ],
   "source": [
    "list1 = [5,7,9,2,6]\n",
    "min(list1)"
   ]
  },
  {
   "cell_type": "markdown",
   "id": "96822d96",
   "metadata": {},
   "source": [
    "**26-search for if an elem is existing in list"
   ]
  },
  {
   "cell_type": "code",
   "execution_count": 5,
   "id": "51ca5c9a",
   "metadata": {},
   "outputs": [
    {
     "name": "stdout",
     "output_type": "stream",
     "text": [
      "6\n",
      "Yes, is existing in list\n"
     ]
    }
   ],
   "source": [
    "list1 = [5,7,9,2,6]\n",
    "search = int(input())\n",
    "if search in list1:\n",
    "    print(\"Yes, is existing in list\")\n",
    "else:\n",
    "    print(\"No, is not existing in list\")"
   ]
  },
  {
   "cell_type": "markdown",
   "id": "d9557da7",
   "metadata": {},
   "source": [
    "**27- clear python list using different two ways"
   ]
  },
  {
   "cell_type": "code",
   "execution_count": 2,
   "id": "b69858a3",
   "metadata": {},
   "outputs": [
    {
     "data": {
      "text/plain": [
       "[]"
      ]
     },
     "execution_count": 2,
     "metadata": {},
     "output_type": "execute_result"
    }
   ],
   "source": [
    "list1 = [5,7,9,2,6]\n",
    "list1.clear()\n",
    "list1"
   ]
  },
  {
   "cell_type": "code",
   "execution_count": 6,
   "id": "70ddc83a",
   "metadata": {},
   "outputs": [
    {
     "name": "stdout",
     "output_type": "stream",
     "text": [
      "[]\n"
     ]
    }
   ],
   "source": [
    "list1 = [5, 7, 9, 2, 6, 8, 0, 1, 3]\n",
    "\n",
    "for i in list1[:]:\n",
    "    list1.remove(i)\n",
    "\n",
    "print(list1)\n"
   ]
  },
  {
   "cell_type": "markdown",
   "id": "52160e88",
   "metadata": {},
   "source": [
    "**28-remove duplicated elements from a list"
   ]
  },
  {
   "cell_type": "code",
   "execution_count": 8,
   "id": "5e362228",
   "metadata": {},
   "outputs": [
    {
     "data": {
      "text/plain": [
       "{0, 1, 2, 3, 5, 6, 7, 8, 9}"
      ]
     },
     "execution_count": 8,
     "metadata": {},
     "output_type": "execute_result"
    }
   ],
   "source": [
    "list1 = [5, 7, 9, 2, 6, 8, 0, 1, 3,1,5,8]\n",
    "seet = set(list1)\n",
    "seet"
   ]
  },
  {
   "cell_type": "markdown",
   "id": "282337f7",
   "metadata": {},
   "source": [
    "**29-Given list values and keys list, convert these values to key value pairs in form of list of dictionaries. (Input : test_list = [“Gfg”, 3, “is”, 8], key_list = [“name”, “id”]\n",
    "Output : [{‘name’: ‘Gfg’, ‘id’: 3}, {‘name’: ‘is’, ‘id’: 8}])"
   ]
  },
  {
   "cell_type": "code",
   "execution_count": 19,
   "id": "4d4e2d28",
   "metadata": {},
   "outputs": [
    {
     "ename": "IndexError",
     "evalue": "list index out of range",
     "output_type": "error",
     "traceback": [
      "\u001b[1;31m---------------------------------------------------------------------------\u001b[0m",
      "\u001b[1;31mIndexError\u001b[0m                                Traceback (most recent call last)",
      "Cell \u001b[1;32mIn[19], line 9\u001b[0m\n\u001b[0;32m      7\u001b[0m test_list \u001b[38;5;241m=\u001b[39m [\u001b[38;5;124m\"\u001b[39m\u001b[38;5;124mGory\u001b[39m\u001b[38;5;124m\"\u001b[39m, \u001b[38;5;241m8\u001b[39m, \u001b[38;5;124m\"\u001b[39m\u001b[38;5;124missa\u001b[39m\u001b[38;5;124m\"\u001b[39m, \u001b[38;5;241m6\u001b[39m]\n\u001b[0;32m      8\u001b[0m key_list \u001b[38;5;241m=\u001b[39m [\u001b[38;5;124m\"\u001b[39m\u001b[38;5;124mname\u001b[39m\u001b[38;5;124m\"\u001b[39m, \u001b[38;5;124m\"\u001b[39m\u001b[38;5;124mold\u001b[39m\u001b[38;5;124m\"\u001b[39m]\n\u001b[1;32m----> 9\u001b[0m output \u001b[38;5;241m=\u001b[39m conv(test_list, key_list)\n\u001b[0;32m     10\u001b[0m \u001b[38;5;28mprint\u001b[39m(output)\n",
      "Cell \u001b[1;32mIn[19], line 4\u001b[0m, in \u001b[0;36mconv\u001b[1;34m(test_list, key_list)\u001b[0m\n\u001b[0;32m      2\u001b[0m new \u001b[38;5;241m=\u001b[39m []\n\u001b[0;32m      3\u001b[0m \u001b[38;5;28;01mfor\u001b[39;00m i \u001b[38;5;129;01min\u001b[39;00m \u001b[38;5;28mrange\u001b[39m(\u001b[38;5;241m0\u001b[39m, \u001b[38;5;28mlen\u001b[39m(test_list), \u001b[38;5;241m2\u001b[39m):\n\u001b[1;32m----> 4\u001b[0m     new\u001b[38;5;241m.\u001b[39mappend({key_list[i]: test_list[i], key_list[i\u001b[38;5;241m+\u001b[39m\u001b[38;5;241m1\u001b[39m]: test_list[i\u001b[38;5;241m+\u001b[39m\u001b[38;5;241m1\u001b[39m]})\n\u001b[0;32m      5\u001b[0m \u001b[38;5;28;01mreturn\u001b[39;00m new\n",
      "\u001b[1;31mIndexError\u001b[0m: list index out of range"
     ]
    }
   ],
   "source": [
    "def conv(test_list, key_list):\n",
    "    new = []\n",
    "    for i in range(0, len(test_list), 2):\n",
    "        new.append({key_list[i]: test_list[i], key_list[i+1]: test_list[i+1]})\n",
    "    return new\n",
    "\n",
    "test_list = [\"Gory\", 8, \"issa\", 6]\n",
    "key_list = [\"name\", \"old\"]\n",
    "output = conv(test_list, key_list)\n",
    "print(output)\n"
   ]
  },
  {
   "cell_type": "markdown",
   "id": "c26b6e9f",
   "metadata": {},
   "source": [
    "**30-write a python program to count unique values inside a list using different ways"
   ]
  },
  {
   "cell_type": "code",
   "execution_count": 24,
   "id": "72132667",
   "metadata": {},
   "outputs": [
    {
     "name": "stdout",
     "output_type": "stream",
     "text": [
      "[5, 77, 90, 4, 11, 2, 5, 90, 1, 77, 6, 44, 30, 4, 1, 8, 88, 80, 8, 11, 90, 6]\n",
      "{1, 2, 4, 5, 6, 8, 11, 44, 77, 80, 88, 90, 30}\n",
      "13\n"
     ]
    }
   ],
   "source": [
    "k = [5,77,90,4,11,2,5,90,1,77,6,44,30,4,1,8,88,80,8,11,90,6]\n",
    "unique_values= set(k)\n",
    "print(k)\n",
    "print(unique_values)\n",
    "print(len(unique_values))"
   ]
  },
  {
   "cell_type": "markdown",
   "id": "fed6677c",
   "metadata": {},
   "source": [
    "**31-write a python program Extract all elements with Frequency greater than K \n",
    "(Input : test_list = [4, 6, 4, 3, 3, 4, 3, 4, 3, 8], K = 3 \n",
    "Output : [4, 3] )"
   ]
  },
  {
   "cell_type": "code",
   "execution_count": 1,
   "id": "d81f3f9d",
   "metadata": {},
   "outputs": [
    {
     "name": "stdout",
     "output_type": "stream",
     "text": [
      "5\n",
      "{4}\n"
     ]
    }
   ],
   "source": [
    "test_list = [4, 6, 4, 3, 3, 4, 3, 4, 3, 8,8,4]\n",
    "counter = []\n",
    "spechal = []\n",
    "h = int(input())\n",
    "for i in test_list:\n",
    "    counter.append(i)\n",
    "    if counter.count(i)>= h:\n",
    "        spechal.append(i)\n",
    "w = set(spechal)\n",
    "print(w)\n",
    "\n",
    "    "
   ]
  },
  {
   "cell_type": "markdown",
   "id": "caca5224",
   "metadata": {},
   "source": [
    "**32-write a python program to find the Strongest Neighbour (Input: 1 2 2 3 4 5\n",
    "Output: 2 2 3 4 5)"
   ]
  },
  {
   "cell_type": "code",
   "execution_count": 17,
   "id": "39fbd9b2",
   "metadata": {},
   "outputs": [
    {
     "data": {
      "text/plain": [
       "[2, 2, 3, 4, 5, 4]"
      ]
     },
     "execution_count": 17,
     "metadata": {},
     "output_type": "execute_result"
    }
   ],
   "source": [
    "Input = [1, 2, 2, 3, 4, 5]\n",
    "k = []\n",
    "for i in range(len(Input)):\n",
    "    if Input[i]==Input[0]:\n",
    "        k.append(Input[i+1])\n",
    "    elif Input[i]==Input[-1]:\n",
    "        k.append(Input[i-1])\n",
    "    else:    \n",
    "        if (Input[i-1]>Input[i+1]) == True:\n",
    "            k.append(Input[i-1])\n",
    "        else:\n",
    "            k.append(Input[i+1])\n",
    "k            \n",
    "        "
   ]
  },
  {
   "cell_type": "markdown",
   "id": "a9fa8baf",
   "metadata": {},
   "source": [
    "**33-write a Python Program to print all Possible Combinations from the three Digits (Input: [1, 2, 3]\n",
    "Output:\n",
    "1 2 3 ##\n",
    "1 3 2 ##\n",
    "2 1 3 ##\n",
    "2 3 1 ##\n",
    "3 1 2 ##\n",
    "3 2 1)"
   ]
  },
  {
   "cell_type": "code",
   "execution_count": 6,
   "id": "8c520a76",
   "metadata": {},
   "outputs": [
    {
     "name": "stdout",
     "output_type": "stream",
     "text": [
      "7 5 3 1\n",
      "('7', '5', '3')\n",
      "('7', '5', '1')\n",
      "('7', '3', '5')\n",
      "('7', '3', '1')\n",
      "('7', '1', '5')\n",
      "('7', '1', '3')\n",
      "('5', '7', '3')\n",
      "('5', '7', '1')\n",
      "('5', '3', '7')\n",
      "('5', '3', '1')\n",
      "('5', '1', '7')\n",
      "('5', '1', '3')\n",
      "('3', '7', '5')\n",
      "('3', '7', '1')\n",
      "('3', '5', '7')\n",
      "('3', '5', '1')\n",
      "('3', '1', '7')\n",
      "('3', '1', '5')\n",
      "('1', '7', '5')\n",
      "('1', '7', '3')\n",
      "('1', '5', '7')\n",
      "('1', '5', '3')\n",
      "('1', '3', '7')\n",
      "('1', '3', '5')\n"
     ]
    }
   ],
   "source": [
    "from itertools import permutations\n",
    "lis = input().split()\n",
    "Combination = permutations(lis, 3)\n",
    " \n",
    "for i in Combination:\n",
    "    print(i)"
   ]
  },
  {
   "cell_type": "markdown",
   "id": "5288bb89",
   "metadata": {},
   "source": [
    "**34-write a Python program to find all the Combinations in the list with the given condition (Input: test_list = [1,2,3] \n",
    "Output: \n",
    " [1], [1, 2], [1, 2, 3], [1, 3]\n",
    " [2], [2, 3], [3])"
   ]
  },
  {
   "cell_type": "code",
   "execution_count": 22,
   "id": "04339c85",
   "metadata": {},
   "outputs": [
    {
     "name": "stdout",
     "output_type": "stream",
     "text": [
      "[(), (1,), (2,), (3,), (1, 2), (1, 3), (2, 3), (1, 2, 3)]\n"
     ]
    }
   ],
   "source": [
    "import itertools\n",
    "\n",
    "numbers = [1, 2, 3]\n",
    "\n",
    "combinations = []\n",
    "\n",
    "for r in range(len(numbers)+1):\n",
    "    for combination in itertools.combinations(set(numbers), r):\n",
    "        combinations.append(combination)\n",
    "\n",
    "print(combinations)"
   ]
  },
  {
   "cell_type": "markdown",
   "id": "39973705",
   "metadata": {},
   "source": [
    "**35-write a Python program to get all unique combinations of two Lists (List_1 = [\"a\",\"b\"]\n",
    "List_2 = [1,2]\n",
    "Unique_combination = [[('a',1),('b',2)],[('a',2),('b',1)]] )"
   ]
  },
  {
   "cell_type": "code",
   "execution_count": 31,
   "id": "335f3aac",
   "metadata": {},
   "outputs": [
    {
     "data": {
      "text/plain": [
       "[('a', 1), ('a', 2), ('b', 1), ('b', 2)]"
      ]
     },
     "execution_count": 31,
     "metadata": {},
     "output_type": "execute_result"
    }
   ],
   "source": [
    "from itertools import product\n",
    "List_1 = [\"a\",\"b\"] \n",
    "List_2 = [1,2] \n",
    "lis = []\n",
    "for element in itertools.product(List_1, List_2):\n",
    "    lis.append(element)\n",
    "lis"
   ]
  },
  {
   "cell_type": "markdown",
   "id": "25199af5",
   "metadata": {},
   "source": [
    "**36-Remove all the occurrences of an element from a list in Python (Input : 1 1 2 3 4 5 1 2 1 \n",
    "\n",
    "**Output :  3 4 5 )"
   ]
  },
  {
   "cell_type": "code",
   "execution_count": 35,
   "id": "6dc4c2ba",
   "metadata": {},
   "outputs": [
    {
     "data": {
      "text/plain": [
       "[3, 4, 5]"
      ]
     },
     "execution_count": 35,
     "metadata": {},
     "output_type": "execute_result"
    }
   ],
   "source": [
    "test_list = [1, 1, 2, 3, 4, 5, 1, 2, 1]\n",
    "occurrences = []\n",
    "for i in test_list:\n",
    "    if test_list.count(i) == 1:\n",
    "        occurrences.append(i)\n",
    "occurrences"
   ]
  },
  {
   "cell_type": "markdown",
   "id": "bf1a3c93",
   "metadata": {},
   "source": [
    "**37-write a python program to Replace index elements with elements in Other List (The original list 1 is : [‘Gfg’, ‘is’, ‘best’] The original list 2 is : [0, 1, 2, 1, 0, 0, 0, 2, 1, 1, 2, 0] The lists after index elements replacements is : [‘Gfg’, ‘is’, ‘best’, ‘is’, ‘Gfg’, ‘Gfg’, ‘Gfg’, ‘best’, ‘is’, ‘is’, ‘best’, ‘Gfg’])"
   ]
  },
  {
   "cell_type": "code",
   "execution_count": 29,
   "id": "fdd66a71",
   "metadata": {},
   "outputs": [
    {
     "name": "stdout",
     "output_type": "stream",
     "text": [
      "['Gfg', 'is', 'best', 'is', 'Gfg', 'Gfg', 'Gfg', 'best', 'is', 'is', 'best', 'Gfg']\n"
     ]
    }
   ],
   "source": [
    "from itertools import compress\n",
    "\n",
    "data = [\"Gfg\", \"is\", \"best\"]\n",
    "selectors = [0, 1, 2, 1, 0, 0, 0, 2, 1, 1, 2, 0]\n",
    "k =[]\n",
    "for v in selectors:\n",
    "    k.append(data[v])\n",
    "print(k)        "
   ]
  },
  {
   "cell_type": "markdown",
   "id": "af0f56e8",
   "metadata": {},
   "source": [
    "**38- write python program to Retain records with N occurrences of K(Input : test_list = [(4, 5, 5, 4), (5, 4, 3)], K = 5, N = 2 \n",
    "Output : [(4, 5, 5, 4)]\n",
    "Input : test_list = [(4, 5, 5, 4), (5, 4, 3)], K = 5, N = 3 \n",
    "Output : [] )"
   ]
  },
  {
   "cell_type": "code",
   "execution_count": 9,
   "id": "67b06671",
   "metadata": {},
   "outputs": [
    {
     "name": "stdout",
     "output_type": "stream",
     "text": [
      "[(5, 4, 3)]\n"
     ]
    }
   ],
   "source": [
    "test_list = [(4, 5, 5, 4), (5, 4, 3)]\n",
    "K = 4\n",
    "N = 1\n",
    "result = []\n",
    "\n",
    "for i in test_list:\n",
    "    if i.count(K) == N:\n",
    "        result.append(i)\n",
    "\n",
    "print(result)\n"
   ]
  },
  {
   "cell_type": "markdown",
   "id": "de76f183",
   "metadata": {},
   "source": [
    "**39-write a Python Program to Sort the list according to the column using lambda\n",
    "array = [[1, 3, 3], [2, 1, 2], [3, 2, 1]]\n",
    "Output :\n",
    "Sorted array specific to column 0, [[1, 3, 3], [2, 1, 2], [3, 2, 1]]\n",
    "Sorted array specific to column 1, [[2, 1, 2], [3, 2, 1], [1, 3, 3]]\n",
    "Sorted array specific to column 2, [[3, 2, 1], [2, 1, 2], [1, 3, 3]]"
   ]
  },
  {
   "cell_type": "code",
   "execution_count": null,
   "id": "dc883308",
   "metadata": {},
   "outputs": [],
   "source": []
  },
  {
   "cell_type": "markdown",
   "id": "c64fe3e4",
   "metadata": {},
   "source": [
    "**40- write a program to Sort Python Dictionaries by Key or Value\n",
    "Input:\n",
    "{'ravi': 10, 'rajnish': 9, 'sanjeev': 15, 'yash': 2, 'suraj': 32}\n",
    "\n",
    "Output: \n",
    "{'rajnish': 9, 'ravi': 10, 'sanjeev': 15, 'suraj': 32, 'yash': 2}"
   ]
  },
  {
   "cell_type": "code",
   "execution_count": 30,
   "id": "a96db4a0",
   "metadata": {},
   "outputs": [
    {
     "data": {
      "text/plain": [
       "{'rajnish': 9, 'ravi': 10, 'sanjeev': 15, 'suraj': 32, 'yash': 2}"
      ]
     },
     "execution_count": 30,
     "metadata": {},
     "output_type": "execute_result"
    }
   ],
   "source": [
    "from collections import OrderedDict\n",
    "dic = {'ravi': 10, 'rajnish': 9, 'sanjeev': 15, 'yash': 2, 'suraj': 32}\n",
    "sorted_dic = {k: dic[k] for k in sorted(dic.keys())}\n",
    "sorted_dic"
   ]
  },
  {
   "cell_type": "code",
   "execution_count": 26,
   "id": "ee23f7ef",
   "metadata": {},
   "outputs": [
    {
     "name": "stdout",
     "output_type": "stream",
     "text": [
      "[('yash', 2), ('rajnish', 9), ('ravi', 10), ('sanjeev', 15), ('suraj', 32)]\n"
     ]
    }
   ],
   "source": [
    "from collections import OrderedDict\n",
    "dic = {'ravi': 10, 'rajnish': 9, 'sanjeev': 15, 'yash': 2, 'suraj': 32}\n",
    "sorted_dic = sorted(dic.items(), key=lambda x: x[1])\n",
    "print(sorted_dic)\n"
   ]
  },
  {
   "cell_type": "markdown",
   "id": "ec63c23a",
   "metadata": {},
   "source": [
    "**41-write python program to Remove keys with Values Greater than K ( Including mixed values )\n",
    "nput : test_dict = {‘Gfg’ : 3, ‘is’ : 7, ‘best’ : 10, ‘for’ : 6, ‘geeks’ : ‘CS’},\n",
    "K = 7 \n",
    "Output : {‘Gfg’ : 3, ‘for’ : 6, ‘geeks’ : ‘CS’}"
   ]
  },
  {
   "cell_type": "code",
   "execution_count": 37,
   "id": "a338cf45",
   "metadata": {},
   "outputs": [
    {
     "name": "stdout",
     "output_type": "stream",
     "text": [
      "{'Gfg': 3, 'for': 6, 'geeks': 'CS'}\n"
     ]
    }
   ],
   "source": [
    "dic = {\"Gfg\": 3, \"is\": 7, \"best\": 10, \"for\": 6, \"geeks\": \"CS\"}\n",
    "r = 7\n",
    "g = dic.copy()\n",
    "\n",
    "g = {key: value for key, value in g.items() if (isinstance(value, int) and value < r) or  isinstance(value, str)}\n",
    "\n",
    "print(g)\n"
   ]
  },
  {
   "cell_type": "markdown",
   "id": "f143f0fe",
   "metadata": {},
   "source": [
    "**42-Write a Python program to concatenate the following dictionaries to create a new one\n",
    "\n",
    "Sample Dictionary :\n",
    "dic1={1:10, 2:20}\n",
    "dic2={3:30, 4:40}\n",
    "dic3={5:50,6:60}\n",
    "Expected Result : {1: 10, 2: 20, 3: 30, 4: 40, 5: 50, 6: 60}"
   ]
  },
  {
   "cell_type": "code",
   "execution_count": 49,
   "id": "74ffdfea",
   "metadata": {},
   "outputs": [
    {
     "data": {
      "text/plain": [
       "{1: 10, 2: 20, 3: 30, 4: 40, 5: 50, 6: 60}"
      ]
     },
     "execution_count": 49,
     "metadata": {},
     "output_type": "execute_result"
    }
   ],
   "source": [
    "dic1={1:10, 2:20} \n",
    "dic2={3:30, 4:40} \n",
    "dic3={5:50, 6:60} \n",
    "dic1.update(dic2)\n",
    "dic1.update(dic3)\n",
    "dic1"
   ]
  },
  {
   "cell_type": "markdown",
   "id": "fb04c93c",
   "metadata": {},
   "source": [
    "**43-Write a Python program to iterate over dictionaries using for loops"
   ]
  },
  {
   "cell_type": "code",
   "execution_count": 63,
   "id": "6aebc470",
   "metadata": {},
   "outputs": [
    {
     "name": "stdout",
     "output_type": "stream",
     "text": [
      "name is hamza and his old 12\n",
      "name is noor and his old 11\n",
      "name is abdulrhman and his old 10\n",
      "name is smaher and his old 25\n",
      "name is esraa and his old 20\n"
     ]
    }
   ],
   "source": [
    "# key is name \n",
    "# value is the old\n",
    "dic = {\"hamza\": 12, \"noor\": 11, \"abdulrhman\": 10, \"smaher\": 25, \"esraa\": 20}\n",
    "for key,value in dic.items():\n",
    "    print(\"name is\",key,\"and his old\",value)"
   ]
  },
  {
   "cell_type": "markdown",
   "id": "5f491a9d",
   "metadata": {},
   "source": [
    "**44- Write a Python script to merge two Python dictionaries"
   ]
  },
  {
   "cell_type": "code",
   "execution_count": 64,
   "id": "b8a14028",
   "metadata": {},
   "outputs": [
    {
     "data": {
      "text/plain": [
       "{1: 10, 2: 20, 3: 30, 4: 40}"
      ]
     },
     "execution_count": 64,
     "metadata": {},
     "output_type": "execute_result"
    }
   ],
   "source": [
    "dic1={1:10, 2:20} \n",
    "dic2={3:30, 4:40} \n",
    "dic1.update(dic2)\n",
    "dic1"
   ]
  },
  {
   "cell_type": "markdown",
   "id": "216fc72d",
   "metadata": {},
   "source": [
    "**45-Write a Python program to get the maximum and minimum values of a dictionary values"
   ]
  },
  {
   "cell_type": "code",
   "execution_count": 66,
   "id": "d6883f5f",
   "metadata": {},
   "outputs": [
    {
     "name": "stdout",
     "output_type": "stream",
     "text": [
      "the maximum number  60\n",
      "the minimum number  10\n"
     ]
    }
   ],
   "source": [
    "dictionary={1: 10, 2: 20, 3: 30, 4: 40, 5: 50, 6: 60}\n",
    "m = max(dictionary.values())\n",
    "n = min(dictionary.values())\n",
    "print(\"the maximum number \",m)\n",
    "print(\"the minimum number \",n)"
   ]
  },
  {
   "cell_type": "markdown",
   "id": "b6a53011",
   "metadata": {},
   "source": [
    "**46- Write a Python program to drop empty items from a given dictionary.\n",
    "Original Dictionary:\n",
    "{'c1': 'Red', 'c2': 'Green', 'c3': None}\n",
    "New Dictionary after dropping empty items:\n",
    "{'c1': 'Red', 'c2': 'Green'}"
   ]
  },
  {
   "cell_type": "code",
   "execution_count": 76,
   "id": "5eb885dc",
   "metadata": {},
   "outputs": [
    {
     "name": "stdout",
     "output_type": "stream",
     "text": [
      "{'c1': 'red', 'c2': 'green'}\n"
     ]
    }
   ],
   "source": [
    "w = {\"c1\": \"red\", \"c2\": \"green\", \"c3\": None}\n",
    "w = {key: value for key, value in w.items() if value is not None}\n",
    "print(w)"
   ]
  },
  {
   "cell_type": "markdown",
   "id": "46d718c7",
   "metadata": {},
   "source": [
    "**47-Write a Python program to create a tuple of numbers and print one item"
   ]
  },
  {
   "cell_type": "code",
   "execution_count": 82,
   "id": "13216ff5",
   "metadata": {},
   "outputs": [
    {
     "name": "stdout",
     "output_type": "stream",
     "text": [
      "33\n"
     ]
    }
   ],
   "source": [
    "tupy = (4, 6, 0, 33, 21, 12)\n",
    "print(tupy[3])"
   ]
  },
  {
   "cell_type": "markdown",
   "id": "2be5b56b",
   "metadata": {},
   "source": [
    "**48-Write a Python program to unpack a tuple into several variables"
   ]
  },
  {
   "cell_type": "code",
   "execution_count": 86,
   "id": "595f44be",
   "metadata": {},
   "outputs": [
    {
     "name": "stdout",
     "output_type": "stream",
     "text": [
      "4\n",
      "6\n",
      "[0, 33, 21]\n",
      "12\n"
     ]
    }
   ],
   "source": [
    "tupy = (4, 6, 0, 33, 21, 12)\n",
    "a,b,*c,al = tupy\n",
    "print(a)\n",
    "print(b)\n",
    "print(c)\n",
    "print(al)"
   ]
  },
  {
   "cell_type": "code",
   "execution_count": 87,
   "id": "d1327f63",
   "metadata": {},
   "outputs": [
    {
     "name": "stdout",
     "output_type": "stream",
     "text": [
      "4\n",
      "6\n",
      "0\n",
      "33\n",
      "21\n",
      "12\n"
     ]
    }
   ],
   "source": [
    "tupy = (4, 6, 0, 33, 21, 12)\n",
    "a,b,c,n,m,v = tupy\n",
    "print(a)\n",
    "print(b)\n",
    "print(c)\n",
    "print(n)\n",
    "print(m)\n",
    "print(v)"
   ]
  },
  {
   "cell_type": "markdown",
   "id": "392388a7",
   "metadata": {},
   "source": [
    "**49-Write a Python program to add an item to a tuple"
   ]
  },
  {
   "cell_type": "code",
   "execution_count": 102,
   "id": "54cc092e",
   "metadata": {},
   "outputs": [
    {
     "name": "stdout",
     "output_type": "stream",
     "text": [
      "(4, 6, 0, 33, 21, 12, 4)\n"
     ]
    }
   ],
   "source": [
    "tupy = (4, 6, 0, 33, 21, 12)\n",
    "b = 4\n",
    "tupy_add = tupy + (b,) # the coma is important\n",
    "print(tupy_add)"
   ]
  },
  {
   "cell_type": "markdown",
   "id": "3e8fd124",
   "metadata": {},
   "source": [
    "**50-Write a Python program to convert a tuple to a string"
   ]
  },
  {
   "cell_type": "code",
   "execution_count": 103,
   "id": "92a71ddc",
   "metadata": {},
   "outputs": [
    {
     "name": "stdout",
     "output_type": "stream",
     "text": [
      "(4, 6, 0, 33, 21, 12)\n"
     ]
    }
   ],
   "source": [
    "tupy = (4, 6, 0, 33, 21, 12)\n",
    "d = str(tupy)\n",
    "print(d)\n"
   ]
  },
  {
   "cell_type": "markdown",
   "id": "f4f64ef4",
   "metadata": {},
   "source": [
    "**51-Write a Python program to convert a list to a tuple"
   ]
  },
  {
   "cell_type": "code",
   "execution_count": 104,
   "id": "210d56d3",
   "metadata": {},
   "outputs": [
    {
     "name": "stdout",
     "output_type": "stream",
     "text": [
      "(4, 6, 0, 33, 21, 12)\n"
     ]
    }
   ],
   "source": [
    "listy = [4, 6, 0, 33, 21, 12]\n",
    "tupley = tuple(listy)\n",
    "print(tupley)"
   ]
  },
  {
   "cell_type": "markdown",
   "id": "b1e00ef7",
   "metadata": {},
   "source": [
    "**52-Write a Python program to reverse a tuple"
   ]
  },
  {
   "cell_type": "code",
   "execution_count": 106,
   "id": "f45bfdc7",
   "metadata": {},
   "outputs": [
    {
     "data": {
      "text/plain": [
       "(12, 21, 33, 0, 6, 4)"
      ]
     },
     "execution_count": 106,
     "metadata": {},
     "output_type": "execute_result"
    }
   ],
   "source": [
    "tupy = (4, 6, 0, 33, 21, 12)\n",
    "l = list(tupy)\n",
    "l.reverse()\n",
    "result = tuple(l)\n",
    "result"
   ]
  },
  {
   "cell_type": "markdown",
   "id": "3cd347d1",
   "metadata": {},
   "source": [
    "**53-Write a Python program to replace the last value of tuples in a list.\n",
    "Sample list: [(10, 20, 40), (40, 50, 60), (70, 80, 90)]\n",
    "Expected Output: [(10, 20, 100), (40, 50, 100), (70, 80, 100)]"
   ]
  },
  {
   "cell_type": "code",
   "execution_count": 124,
   "id": "3c4a2a4c",
   "metadata": {},
   "outputs": [
    {
     "data": {
      "text/plain": [
       "[(10, 20, 'etc'), (40, 50, 'etc'), (70, 80, 'etc')]"
      ]
     },
     "execution_count": 124,
     "metadata": {},
     "output_type": "execute_result"
    }
   ],
   "source": [
    "lis = [(10, 20, 30), (40, 50, 60), (70, 80, 90)] \n",
    "for i in range (0,len(lis)):\n",
    "    lis[i] = lis[i][:2]+(\"etc\",)\n",
    "lis"
   ]
  },
  {
   "cell_type": "markdown",
   "id": "76bb7b39",
   "metadata": {},
   "source": [
    "**54-Write a Python program to convert a given string list to a tuple\n",
    "Original string: python 3.0\n",
    "<class 'str'>\n",
    "Convert the said string to a tuple:\n",
    "('p', 'y', 't', 'h', 'o', 'n', '3', '.', '0')"
   ]
  },
  {
   "cell_type": "code",
   "execution_count": 126,
   "id": "51951937",
   "metadata": {},
   "outputs": [
    {
     "data": {
      "text/plain": [
       "('p', 'y', 't', 'h', 'o', 'n', '3', '.', '0')"
      ]
     },
     "execution_count": 126,
     "metadata": {},
     "output_type": "execute_result"
    }
   ],
   "source": [
    "string = \"python3.0\" \n",
    "u = tuple(string)\n",
    "u"
   ]
  },
  {
   "cell_type": "markdown",
   "id": "5a1d5d97",
   "metadata": {},
   "source": [
    "**55-Write a Python program to calculate the average value of the numbers in a given tuple of tuples"
   ]
  },
  {
   "cell_type": "code",
   "execution_count": 160,
   "id": "834e7992",
   "metadata": {},
   "outputs": [
    {
     "name": "stdout",
     "output_type": "stream",
     "text": [
      "50.0\n"
     ]
    }
   ],
   "source": [
    "num = ((10, 20, 30), (40, 50, 60), (70, 80, 90))\n",
    "submition = [y for i in num for y in i]\n",
    "s = sum(submition)  \n",
    "r = s / len(submition)\n",
    "print(r)"
   ]
  },
  {
   "cell_type": "markdown",
   "id": "51edab9c",
   "metadata": {},
   "source": [
    "**56-Write a Python program to add member(s) to a set."
   ]
  },
  {
   "cell_type": "code",
   "execution_count": 164,
   "id": "2b65df79",
   "metadata": {},
   "outputs": [
    {
     "data": {
      "text/plain": [
       "{0, 2, 5, 6, 8}"
      ]
     },
     "execution_count": 164,
     "metadata": {},
     "output_type": "execute_result"
    }
   ],
   "source": [
    "s = {5,2,0,8}\n",
    "s.add(6)\n",
    "s"
   ]
  },
  {
   "cell_type": "markdown",
   "id": "965590cc",
   "metadata": {},
   "source": [
    "**57-Write a Python program to remove an item from a set if it is present in the set."
   ]
  },
  {
   "cell_type": "code",
   "execution_count": 2,
   "id": "866bab28",
   "metadata": {},
   "outputs": [
    {
     "name": "stdout",
     "output_type": "stream",
     "text": [
      "2\n"
     ]
    },
    {
     "data": {
      "text/plain": [
       "{0, 5, 6, 8}"
      ]
     },
     "execution_count": 2,
     "metadata": {},
     "output_type": "execute_result"
    }
   ],
   "source": [
    "s = {0, 2, 5, 6, 8}\n",
    "r = int(input())\n",
    "if r in s:\n",
    "    s.remove(r)\n",
    "s"
   ]
  },
  {
   "cell_type": "markdown",
   "id": "2b7cfed1",
   "metadata": {},
   "source": [
    "**58-Write a Python program to create an intersection,union,difference and symmetric difference of sets"
   ]
  },
  {
   "cell_type": "code",
   "execution_count": 4,
   "id": "7f94b7fe",
   "metadata": {},
   "outputs": [
    {
     "name": "stdout",
     "output_type": "stream",
     "text": [
      "{11, 90, 10, 7}\n",
      "{2, 3, 5, 7, 9, 10, 11, 46, 50, 21, 90}\n",
      "{3, 21, 46}\n",
      "{2, 3, 5, 9, 46, 50, 21}\n"
     ]
    }
   ],
   "source": [
    "s1 = {3,7,90,21,11,46,10}\n",
    "s2 = {11,10,5,9,2,7,50,90}\n",
    "i = s1.intersection(s2)\n",
    "u = s1.union(s2)\n",
    "d = s1.difference(s2)\n",
    "m = s1.symmetric_difference(s2)\n",
    "print(i)\n",
    "print(u)\n",
    "print(d)\n",
    "print(m)"
   ]
  },
  {
   "cell_type": "markdown",
   "id": "b94931e2",
   "metadata": {},
   "source": [
    "**59-Write a Python program to find the maximum and minimum values in a set"
   ]
  },
  {
   "cell_type": "code",
   "execution_count": 5,
   "id": "203f9600",
   "metadata": {},
   "outputs": [
    {
     "name": "stdout",
     "output_type": "stream",
     "text": [
      "90\n",
      "3\n"
     ]
    }
   ],
   "source": [
    "s1 = {3,7,90,21,11,46,10}\n",
    "m = max(s1)\n",
    "print(m)\n",
    "n = min(s1)\n",
    "print(n)"
   ]
  },
  {
   "cell_type": "markdown",
   "id": "255fd554",
   "metadata": {},
   "source": [
    "**60- Write a Python program that finds all pairs of elements in a list whose sum is equal to a given value."
   ]
  },
  {
   "cell_type": "code",
   "execution_count": 8,
   "id": "c2d94e1f",
   "metadata": {},
   "outputs": [
    {
     "name": "stdout",
     "output_type": "stream",
     "text": [
      "[(2, 8), (4, 6), (9, 1)]\n"
     ]
    }
   ],
   "source": [
    "def find_pairs(my_list, given):\n",
    "    pairs = []\n",
    "    for i in range(len(my_list)):\n",
    "        for j in range(i + 1, len(my_list)):\n",
    "            if my_list[i] + my_list[j] == given:\n",
    "                pairs.append((my_list[i], my_list[j]))\n",
    "    return pairs\n",
    "\n",
    "\n",
    "my_list = [2, 4, 3, 5, 6, 8, 9, 1, 11]\n",
    "given = 10\n",
    "\n",
    "result = find_pairs(my_list, given)\n",
    "print(result)\n"
   ]
  }
 ],
 "metadata": {
  "kernelspec": {
   "display_name": "Python 3 (ipykernel)",
   "language": "python",
   "name": "python3"
  },
  "language_info": {
   "codemirror_mode": {
    "name": "ipython",
    "version": 3
   },
   "file_extension": ".py",
   "mimetype": "text/x-python",
   "name": "python",
   "nbconvert_exporter": "python",
   "pygments_lexer": "ipython3",
   "version": "3.11.3"
  }
 },
 "nbformat": 4,
 "nbformat_minor": 5
}
