{
 "cells": [
  {
   "cell_type": "code",
   "execution_count": 17,
   "id": "8df472c5",
   "metadata": {},
   "outputs": [
    {
     "name": "stdout",
     "output_type": "stream",
     "text": [
      "the info is saved\n"
     ]
    }
   ],
   "source": [
    "import requests\n",
    "from bs4 import BeautifulSoup\n",
    "\n",
    "url = \"https://www.yallakora.com/Match-Center/?date=18/21/2023\"\n",
    "\n",
    "response = requests.get(url)\n",
    "html_content = response.content\n",
    "soup = BeautifulSoup(html_content, 'html.parser')\n",
    "championships = soup.find_all('div', class_='matchCard')\n",
    "print(\"the info is saved\")"
   ]
  },
  {
   "cell_type": "code",
   "execution_count": 18,
   "id": "599223a7",
   "metadata": {},
   "outputs": [
    {
     "name": "stdout",
     "output_type": "stream",
     "text": [
      "The html code was stored in html task 8 file\n"
     ]
    }
   ],
   "source": [
    "# store the code in txt file #\n",
    "\n",
    "with open(r\"C:\\Users\\aqsa\\Downloads\\Task\\8\\htmltask8.txt\", \"w\", encoding=\"utf-8\") as file:\n",
    "    for i in range(len(championships)):\n",
    "        matches = championships[i].contents[3].find_all('li')\n",
    "        \n",
    "        for match in matches:\n",
    "            file.write(str(match) + '\\n')\n",
    "    print(\"The html code was stored in html task 8 file\")"
   ]
  },
  {
   "cell_type": "code",
   "execution_count": 19,
   "id": "9e6e4687",
   "metadata": {},
   "outputs": [
    {
     "name": "stdout",
     "output_type": "stream",
     "text": [
      "جنوب السودان 83 - 115 صربيا 11:00 بى ان سبورت 4 HD\n",
      "جورجيا 70 - 59 فنزويلا 11:00 بى ان سبورت 3 HD\n",
      "الولايات المتحدة 110 - 62 الأردن 11:40 بى ان سبورت 1HD\n",
      "كوت ديفوار 77 - 89 البرازيل 12:45 بى ان سبورت 2 HD\n",
      "سلوفينيا 92 - 77 كاب فيردي 14:30 بى ان سبورت 4 HD\n",
      "الصين 89 - 107 بورتوريكو 15:00 بى ان سبورت 3 HD\n",
      "اليونان 77 - 69 نيوزيلندا 15:40 بى ان سبورت 2 HD\n",
      "ايران 34 - 43 إسبانيا 16:30 بى ان سبورت 1HD\n",
      "====================================================================================================\n",
      "تشيلسي - - - ويمبلدون 21:45 No channel\n",
      "====================================================================================================\n",
      "الملعب التونسي - - - الأولمبي الباجي 18:30 No channel\n",
      "====================================================================================================\n",
      "الجيش الملكي - - - شباب المحمدية 21:15 No channel\n",
      "====================================================================================================\n"
     ]
    }
   ],
   "source": [
    "with open(r\"C:\\Users\\aqsa\\Downloads\\Task\\8\\infotask8.txt\", \"w\", encoding=\"utf-8\") as file:\n",
    "    for i in range(len(championships)):\n",
    "        championshipName = championships[i].contents[1].find('h2').text.strip()\n",
    "        matches = championships[i].contents[3].find_all('li')\n",
    "    \n",
    "        for match in matches:\n",
    "            teamA = match.find('div', {'class':'teamA'}).text.strip()\n",
    "            teamB = match.find('div', {'class':'teamB'}).text.strip()\n",
    "\n",
    "            results = match.find('div', {'class':'MResult'}).find_all('span', {'class':'score'})\n",
    "            score = f'{results[0].text.strip()} - {results[1].text.strip()}'\n",
    "\n",
    "            time = match.find('div', {'class':'MResult'}).find('span', {'class':'time'}).text.strip()\n",
    "            \n",
    "            channel_element = match.find('div', {'class':'channel'})\n",
    "            if channel_element:\n",
    "                channel = channel_element.text.strip()\n",
    "            else:\n",
    "                channel = \"No channel\"\n",
    "    \n",
    "            print(teamA, score, teamB, time, channel)\n",
    "        \n",
    "            file.write(f'\\n{championshipName}\\n\\n({teamA}) ({score}) ({teamB}) ({time})  ({channel}) \\n\\n')\n",
    "            file.write('=========================================================\\n')\n",
    "    \n",
    "        print('='*100)"
   ]
  },
  {
   "cell_type": "code",
   "execution_count": null,
   "id": "52e7b1e5",
   "metadata": {},
   "outputs": [],
   "source": []
  }
 ],
 "metadata": {
  "kernelspec": {
   "display_name": "Python 3 (ipykernel)",
   "language": "python",
   "name": "python3"
  },
  "language_info": {
   "codemirror_mode": {
    "name": "ipython",
    "version": 3
   },
   "file_extension": ".py",
   "mimetype": "text/x-python",
   "name": "python",
   "nbconvert_exporter": "python",
   "pygments_lexer": "ipython3",
   "version": "3.11.3"
  }
 },
 "nbformat": 4,
 "nbformat_minor": 5
}
